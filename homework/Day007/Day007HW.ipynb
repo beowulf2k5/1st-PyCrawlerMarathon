{
 "cells": [
  {
   "cell_type": "markdown",
   "metadata": {},
   "source": [
    "\n",
    "# HTTP 靜態網頁架構說明\n",
    "\n",
    "認識靜態網頁的溝通架構與運作原理\n",
    "\n",
    "HTML、CSS、JavaScript 在網頁中扮演的角色\n",
    "\n",
    "網頁中定位資料的方法\n",
    "\n",
    "# 作業目標\n",
    "\n",
    "（簡答題）請問目前提到的這種基於 HTTP 一來一回的網頁傳輸方式，有哪些缺點及問題？\n",
    "\n",
    "（簡答題）網頁中使用的 JavaScipt 程式語言，跟我們一般使用的 Python 在執行上有什麼不同。"
   ]
  },
  {
   "cell_type": "markdown",
   "metadata": {},
   "source": [
    "# 1.（簡答題）請問目前提到的這種基於 HTTP 一來一回的網頁傳輸方式，有哪些缺點及問題？\n"
   ]
  },
  {
   "cell_type": "markdown",
   "metadata": {},
   "source": [
    "Answer:\n",
    "\n",
    "1.  The content is static, doesn't allow much interaction between server/client side\n",
    "2.  Lack of automatic tools, require a lot of effort to maintain/update the site\n",
    "3.  Security is an issue since there is no verification.\n",
    "    \n"
   ]
  },
  {
   "cell_type": "markdown",
   "metadata": {},
   "source": [
    "# 2. （簡答題）網頁中使用的 JavaScipt 程式語言，跟我們一般使用的 Python 在執行上有什麼不同。\n"
   ]
  },
  {
   "cell_type": "markdown",
   "metadata": {},
   "source": [
    "Answer:\n",
    "\n",
    "1.  Python provides many standard libraries where as Javascript is much more limited\n",
    "2.  Python has libraries for scientific computing, data analytic, machine learning.\n",
    "3.  Python is much easier to pickup than JavaScript\n",
    "4.  Python is more of a server side language where as JavaScript works both as server/client side language."
   ]
  },
  {
   "cell_type": "code",
   "execution_count": null,
   "metadata": {},
   "outputs": [],
   "source": []
  }
 ],
 "metadata": {
  "kernelspec": {
   "display_name": "finlab",
   "language": "python",
   "name": "finlab"
  },
  "language_info": {
   "codemirror_mode": {
    "name": "ipython",
    "version": 3
   },
   "file_extension": ".py",
   "mimetype": "text/x-python",
   "name": "python",
   "nbconvert_exporter": "python",
   "pygments_lexer": "ipython3",
   "version": "3.6.9"
  }
 },
 "nbformat": 4,
 "nbformat_minor": 2
}
