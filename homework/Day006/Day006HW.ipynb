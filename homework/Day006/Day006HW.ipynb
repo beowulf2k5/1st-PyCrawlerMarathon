{
 "cells": [
  {
   "cell_type": "markdown",
   "metadata": {},
   "source": [
    "# API 資料串接 - 以 知乎 API 實作範例\n",
    "了解知乎 API 使用方式與回傳內容\n",
    "\n",
    "撰寫程式存取 API 且添加標頭\n",
    "\n",
    "# 作業目標\n",
    "根據範例提供的 API ，完成以下問題：\n",
    "\n",
    "取出知乎問題發問時間\n",
    "\n",
    "取出第一筆與最後一筆回答的時間"
   ]
  },
  {
   "cell_type": "markdown",
   "metadata": {},
   "source": [
    "\n",
    "# 1. 取出知乎問題發問時間\n"
   ]
  },
  {
   "cell_type": "code",
   "execution_count": 20,
   "metadata": {},
   "outputs": [],
   "source": [
    "import requests\n",
    "import json\n",
    "from datetime import datetime\n",
    "\n",
    "headers = {'user-agent': 'my-app/0.0.1'}\n",
    "r = requests.get('https://www.zhihu.com/api/v4/questions/55493026/answers',headers=headers)\n",
    "response = r.text\n"
   ]
  },
  {
   "cell_type": "code",
   "execution_count": 53,
   "metadata": {},
   "outputs": [
    {
     "name": "stdout",
     "output_type": "stream",
     "text": [
      "2019-05-14 09:00:12\n",
      "2019-04-01 02:17:08\n",
      "2017-05-02 06:48:23\n",
      "2017-05-02 02:45:13\n",
      "2019-10-29 03:07:06\n"
     ]
    },
    {
     "data": {
      "text/plain": [
       "[datetime.datetime(2019, 5, 14, 9, 0, 12),\n",
       " datetime.datetime(2019, 4, 1, 2, 17, 8),\n",
       " datetime.datetime(2017, 5, 2, 6, 48, 23),\n",
       " datetime.datetime(2017, 5, 2, 2, 45, 13),\n",
       " datetime.datetime(2019, 10, 29, 3, 7, 6)]"
      ]
     },
     "execution_count": 53,
     "metadata": {},
     "output_type": "execute_result"
    }
   ],
   "source": [
    "data = json.loads(response)\n",
    "\n",
    "tempList = []\n",
    "for d in data['data']:\n",
    "    tempList = tempList + [datetime.utcfromtimestamp(d['created_time'])]\n",
    "    print(tempList[-1])\n",
    " \n",
    "tempList"
   ]
  },
  {
   "cell_type": "markdown",
   "metadata": {},
   "source": [
    "# 2. 取出第一筆與最後一筆回答的時間\n"
   ]
  },
  {
   "cell_type": "code",
   "execution_count": 57,
   "metadata": {},
   "outputs": [
    {
     "name": "stdout",
     "output_type": "stream",
     "text": [
      "2019-05-14 09:00:12 \n",
      " 2019-10-29 03:07:06\n"
     ]
    }
   ],
   "source": [
    "print(tempList[0], '\\n', tempList[-1])"
   ]
  },
  {
   "cell_type": "code",
   "execution_count": null,
   "metadata": {},
   "outputs": [],
   "source": []
  }
 ],
 "metadata": {
  "kernelspec": {
   "display_name": "finlab",
   "language": "python",
   "name": "finlab"
  },
  "language_info": {
   "codemirror_mode": {
    "name": "ipython",
    "version": 3
   },
   "file_extension": ".py",
   "mimetype": "text/x-python",
   "name": "python",
   "nbconvert_exporter": "python",
   "pygments_lexer": "ipython3",
   "version": "3.6.9"
  }
 },
 "nbformat": 4,
 "nbformat_minor": 2
}
