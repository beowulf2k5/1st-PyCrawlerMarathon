{
 "cells": [
  {
   "cell_type": "markdown",
   "metadata": {},
   "source": [
    "# PTT 網路爬蟲實作練習\n",
    "\n",
    "能夠利用 Request + BeatifulSour 撰寫爬蟲，並存放到合適的資料結構\n",
    "\n",
    "# 作業目標\n",
    "\n",
    "根據範例 ，完成以下問題：\n",
    "\n",
    "① 印出最新文章的「作者」「標題」「時間」\n",
    "\n",
    "② 印出第一頁所有文章的「作者」「標題」「時間」\n",
    "\n",
    "\n",
    "# ① 印出最新文章的「作者」「標題」「時間」\n"
   ]
  },
  {
   "cell_type": "code",
   "execution_count": 59,
   "metadata": {},
   "outputs": [],
   "source": [
    "import requests\n",
    "from bs4 import BeautifulSoup\n",
    "import re\n",
    "import pandas as pd\n",
    "\n",
    "\n",
    "def getArticles(url):\n",
    "    r = requests.get(url)\n",
    "    soup = BeautifulSoup(r.text, \"html.parser\")\n",
    "    alist = []\n",
    "\n",
    "    for d in soup.find_all('div', {'class':'r-ent'}):\n",
    "        try:\n",
    "            alist.append([d.find('div', {'class':'date'}).text,d.find('div', {'class':'author'}).text,d.find('a').text])\n",
    "        except:\n",
    "            continue\n",
    "            \n",
    "    labels = ['Date', 'Author', 'Subject']\n",
    "    df = pd.DataFrame(alist, columns=labels)\n",
    "    \n",
    "    return df"
   ]
  },
  {
   "cell_type": "code",
   "execution_count": 60,
   "metadata": {},
   "outputs": [
    {
     "name": "stdout",
     "output_type": "stream",
     "text": [
      "    Date       Author                               Subject\n",
      "0  12/10        Rambo   [BOX ] Timberwolves 109:125 Suns 數據\n",
      "1  12/10    swordmr20                   [討論] 尼克老闆經營方法......\n",
      "2  12/10       dro001                    [討論] 龜龜加入火箭首場得分破30\n",
      "3  12/10  JunDorisJun                [情報] Rubio:現在的太陽輸贏不是重點\n",
      "4  12/10        Rambo  [BOX ] Grizzlies 110:102 Warriors 數據\n",
      "5  12/10  manuginobii             [情報] PG:會公開離開溜馬原因 該被噓的不是我\n",
      "6  12/10      MidoriG               [花邊] 判斷鬍子三分無效與灌籃無效的是同一人\n",
      "7  12/10       admeta               [新聞] 影／暴扣還不夠！飛人戈登「飛吻挑釁」\n",
      "8  12/10      Kazmier            [情報] PG:無論得到什麼對待 回印城打球很有意思\n"
     ]
    }
   ],
   "source": [
    "url ='https://www.ptt.cc/bbs/NBA/index.html'\n",
    "df = getArticles(url)\n",
    "\n",
    "latest = df.sort_values(by = 'Date', ascending = False)\n",
    "\n",
    "print(df[df['Date'] == latest.iloc[0]['Date']])"
   ]
  },
  {
   "cell_type": "markdown",
   "metadata": {},
   "source": [
    "# ② 印出第一頁所有文章的「作者」「標題」「時間」\n"
   ]
  },
  {
   "cell_type": "code",
   "execution_count": 62,
   "metadata": {},
   "outputs": [
    {
     "name": "stdout",
     "output_type": "stream",
     "text": [
      "     Date      Author                    Subject\n",
      "0    5/16       Price    [轉錄]Lyotard 對於太陽板討論串的結論\n",
      "1    5/31       Price        [公告] 請停止一切關於本次活動的發言\n",
      "2    6/08    Frankaze   [轉錄]跟之前那篇比起來 我覺得這篇也應該轉過來\n",
      "3    6/08    Frankaze                [轉錄]再轉一篇好文來\n",
      "4    6/10       Price           [轉錄][情報] 夏洛特山貓系列\n",
      "5    6/10       Price   [轉錄]Re: [心得] 真是受不了糗爺....\n",
      "6    6/10       Price            [轉錄]總冠軍賽NO.2觀後感\n",
      "7    6/11  AmuroNamie       [心得] Rasheed Wallace\n",
      "8    6/12     toptree                    掌控球賽的男人\n",
      "9    6/12     skchang        [閒聊] 說說2004季後賽名場面回顧\n",
      "10   6/12     shineup     [心得] 其實說穿了 就是活塞的防守太可怕了\n",
      "11   6/12        cOvi    Re: [閒聊] 說說2004季後賽名場面回顧\n",
      "12   6/12      ykshih    Re: [閒聊] 說說2004季後賽名場面回顧\n",
      "13   6/12    Frankaze    Re: [閒聊] 說說2004季後賽名場面回顧\n",
      "14   6/14       Price        [轉錄]Re: 總冠軍賽NO.3觀後感\n",
      "15   6/14    Frankaze        [轉錄]Re: 總冠軍賽NO.3觀後感\n",
      "16   6/14       star1    Re: [轉錄]Re: 總冠軍賽NO.3觀後感\n",
      "17   6/14  coldspring    Re: [轉錄]Re: 總冠軍賽NO.3觀後感\n",
      "18   6/14     airbear  Re: Kobe is frustrated...\n",
      "19   6/14   pennykidd    Re: [轉錄]Re: 總冠軍賽NO.3觀後感\n"
     ]
    }
   ],
   "source": [
    "url ='https://www.ptt.cc/bbs/NBA/index1.html'\n",
    "df = getArticles(url)\n",
    "\n",
    "print(df)"
   ]
  },
  {
   "cell_type": "code",
   "execution_count": null,
   "metadata": {},
   "outputs": [],
   "source": []
  },
  {
   "cell_type": "markdown",
   "metadata": {},
   "source": [
    "# ③ 試著爬爬看其他版的文章\n"
   ]
  },
  {
   "cell_type": "code",
   "execution_count": 65,
   "metadata": {},
   "outputs": [
    {
     "name": "stdout",
     "output_type": "stream",
     "text": [
      "     Date       Author                            Subject\n",
      "0   12/10     sento500            [問題] 求推薦那種和年上成年大姊姊開車的漫畫\n",
      "8   12/10    hn9480412         Fw: [情報] PS5 爆卦版本 資料匯集 更新版\n",
      "14  12/10     wl760713             [情報] 出租女友 動畫 2020 7月播出\n",
      "13  12/10     andy3580                   [閒聊] 風太郎根本沒這麼好吧~\n",
      "12  12/10   justice00s         [閒聊] Vtuber 界 2020 年要面對的議題\n",
      "11  12/10    rockman73                  Re: [討論] 五等分 潛水心得\n",
      "1   12/10     h0103661                     [閒聊] 第七史詩爆抄襲風波\n",
      "9   12/10       ryohgi                [閒聊] 還有哪些被吹上天的平凡角色？\n",
      "10  12/10    hwang1460             Re: [五等] 五月到底是不是看過劇本啊？\n",
      "7   12/10    joe199277                      [閒聊] 李秋水跟天山童姥\n",
      "6   12/10     finzaghi               [訃報] アニサマ的樂團鼓手 山内優去世\n",
      "5   12/10  allanwalker               [閒聊] 六人行的劇組來拍五等份會如何？\n",
      "4   12/10     lime2001      Re: [閒聊] 崩崩崩(名詞)最大的對手崩崩崩(動詞)了\n",
      "3   12/10   frank47147             Re: [五等] 五月到底是不是看過劇本啊？\n",
      "2   12/10         A816                   [閒聊] 有可愛的雙馬尾角色嗎？\n",
      "19  12/09   jschenlemn       Fw: [板務] 累犯加重&4-5、4-7、4-11加重\n",
      "18  12/08   jschenlemn                    [公告] 系列文處置暫行計畫 \n",
      "17  10/01   durantjosh      [19秋] 2019年秋番 台灣觀賞管道整理(10/10)\n",
      "15   9/14   jschenlemn  [公告] C_Chat板板規v.16.3.0+板務建議+好文補M \n",
      "16   6/16   jschenlemn           [公告] 看板活動公告彙整 ＆ 置底推文閒聊區 \n"
     ]
    }
   ],
   "source": [
    "url ='https://www.ptt.cc/bbs/C_Chat/index.html'\n",
    "df = getArticles(url)\n",
    "\n",
    "latest = df.sort_values(by = 'Date', ascending = False)\n",
    "\n",
    "print(latest)"
   ]
  },
  {
   "cell_type": "code",
   "execution_count": null,
   "metadata": {},
   "outputs": [],
   "source": []
  }
 ],
 "metadata": {
  "kernelspec": {
   "display_name": "finlab",
   "language": "python",
   "name": "finlab"
  },
  "language_info": {
   "codemirror_mode": {
    "name": "ipython",
    "version": 3
   },
   "file_extension": ".py",
   "mimetype": "text/x-python",
   "name": "python",
   "nbconvert_exporter": "python",
   "pygments_lexer": "ipython3",
   "version": "3.6.9"
  }
 },
 "nbformat": 4,
 "nbformat_minor": 2
}
