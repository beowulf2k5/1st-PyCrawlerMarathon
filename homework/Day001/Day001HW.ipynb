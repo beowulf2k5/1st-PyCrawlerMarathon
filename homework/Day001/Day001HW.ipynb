{
 "cells": [
  {
   "cell_type": "markdown",
   "metadata": {},
   "source": [
    "# 資料來源與檔案存取\n",
    "\n",
    "資料來源與取得\n",
    "開放資料\n",
    "資料儲存格式\n",
    "Python 存取檔案\n",
    "\n",
    "\n",
    "\n",
    "# 作業目標\n",
    "\n",
    "1.（簡答題）檔案、API、爬蟲三種取得資料方式有什麼不同？\n",
    "\n",
    "2.（實作）完成一個程式，需滿足下列需求：\n",
    "下載指定檔案到 Data 資料夾，存成檔名 Homework.txt\n",
    "\n",
    "檢查 Data 資料夾是否有 Homework.txt 檔名之檔案\n",
    "\n",
    "將「Hello World」字串覆寫到 Homework.txt 檔案\n",
    "\n",
    "檢查 Homework.txt 檔案字數是否符合 Hello World 字數"
   ]
  },
  {
   "cell_type": "markdown",
   "metadata": {},
   "source": [
    "# 1.簡答題答案"
   ]
  },
  {
   "cell_type": "markdown",
   "metadata": {},
   "source": [
    "部分網站有提供 .csv .json .xml 可直接下載資料,之後可以直接讀取檔案處理資訊.  有些developers則提供\n",
    "API介面可以更方便有效率的讀取提公司儲存的公開資料.  爬蟲則是在檔案和API都沒有提供的情況下抓網頁提供\n",
    "的資訊的方法,通常會運用到selenium,beautifulsoup,scrappy."
   ]
  },
  {
   "cell_type": "markdown",
   "metadata": {},
   "source": [
    "# 2.簡答題答案"
   ]
  },
  {
   "cell_type": "code",
   "execution_count": 14,
   "metadata": {},
   "outputs": [
    {
     "name": "stdout",
     "output_type": "stream",
     "text": [
      "String length of Homework.txt is 11\n"
     ]
    }
   ],
   "source": [
    "from urllib.request import urlretrieve\n",
    "\n",
    "urlretrieve(\"https://www.w3.org/TR/PNG/iso_8859-1.txt \", \"Data/Homework.txt\")\n",
    "\n",
    "open(\"Data/Homework.txt\", \"w\").write(\"Hello World\")\n",
    "\n",
    "f = open(\"Data/Homework.txt\", \"r\")\n",
    "print('String length in Homework.txt is ' + str(len(f.readline())))\n",
    "f.close()"
   ]
  },
  {
   "cell_type": "code",
   "execution_count": null,
   "metadata": {},
   "outputs": [],
   "source": []
  }
 ],
 "metadata": {
  "kernelspec": {
   "display_name": "finlab",
   "language": "python",
   "name": "finlab"
  },
  "language_info": {
   "codemirror_mode": {
    "name": "ipython",
    "version": 3
   },
   "file_extension": ".py",
   "mimetype": "text/x-python",
   "name": "python",
   "nbconvert_exporter": "python",
   "pygments_lexer": "ipython3",
   "version": "3.6.9"
  }
 },
 "nbformat": 4,
 "nbformat_minor": 2
}
